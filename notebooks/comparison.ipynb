{
 "cells": [
  {
   "cell_type": "code",
   "execution_count": 6,
   "metadata": {},
   "outputs": [
    {
     "name": "stdout",
     "output_type": "stream",
     "text": [
      "1.9.0.post2\n",
      "3.8.8 (default, Apr 13 2021, 19:58:26) \n",
      "[GCC 7.3.0]\n"
     ]
    }
   ],
   "source": [
    "import torch\n",
    "print(torch.__version__)\n",
    "import sys\n",
    "print(sys.version)"
   ]
  },
  {
   "cell_type": "code",
   "execution_count": 7,
   "metadata": {
    "tags": []
   },
   "outputs": [],
   "source": [
    "def subidx(n:int, remove:int) -> list:\n",
    "    out = list(range(n))\n",
    "    out.remove(remove)\n",
    "    return out\n",
    "\n",
    "def submatrix(A:torch.tensor, j:int) -> torch.tensor:\n",
    "    n = A.shape[0]\n",
    "    s = subidx(n, j)\n",
    "    o = A[s, :]\n",
    "    o = o[:, s]\n",
    "    return o\n",
    "\n",
    "def get_eigenvector_val_old(hermitian_matrix, i, j, disable_complex=False):\n",
    "    # Old way\n",
    "    lam, v = torch.linalg.eig(hermitian_matrix)\n",
    "    if disable_complex:\n",
    "        old_eigenvector_ij = torch.abs(v[j,i]**2)\n",
    "    else:\n",
    "        old_eigenvector_ij = v[j,i]**2\n",
    "    \n",
    "    return old_eigenvector_ij\n",
    "\n",
    "def get_eigenvector_val(hermitian_matrix, i, j, disable_complex=False):\n",
    "    # Only need to calculate eigenvalues\n",
    "    lam  = torch.linalg.eigvals(hermitian_matrix)\n",
    "    \n",
    "    n = len(lam)\n",
    "    M = submatrix(hermitian_matrix, j)\n",
    "    # Only need to calculate eigenvalues\n",
    "    lam_submatrix = torch.linalg.eigvals(M)\n",
    "\n",
    "    # Left side of equation 2\n",
    "    left = torch.prod(torch.tensor([lam[i] - lam[k] for k in range(n) if k!=i]))\n",
    "    # Right side of equation 2\n",
    "    right = torch.prod(torch.tensor([lam[i] - lam_submatrix[k] for k in range(n-1)]))\n",
    "    # Right divided by left\n",
    "    eigenvector_ij = right / left\n",
    "    \n",
    "    if disable_complex:\n",
    "        eigenvector_ij = torch.abs(eigenvector_ij)\n",
    "    \n",
    "    return eigenvector_ij"
   ]
  },
  {
   "cell_type": "code",
   "execution_count": 5,
   "metadata": {},
   "outputs": [
    {
     "name": "stdout",
     "output_type": "stream",
     "text": [
      "Old Method Eigenvector ij: (0.02086203929382368-0j)\n",
      "--------------------------------------------------\n",
      "New Method Eigenvector ij: (0.020862039293826073+0j)\n"
     ]
    }
   ],
   "source": [
    "'''\n",
    "Run with Complex Numbers\n",
    "'''\n",
    "# Random square matrix\n",
    "rand_square_matrix = torch.rand(50, 50, dtype=float)\n",
    "\n",
    "# Hermitian matrix\n",
    "hermitian_matrix = rand_square_matrix * rand_square_matrix.T\n",
    "\n",
    "# Old \n",
    "old_eigenvector_ij = get_eigenvector_val_old(hermitian_matrix, i=0, j=0)\n",
    "\n",
    "# New\n",
    "new_eigenvector_ij = get_eigenvector_val(hermitian_matrix, i=0, j=0)\n",
    "\n",
    "print(f'Old Method Eigenvector ij: {old_eigenvector_ij}')\n",
    "print('-'*50)\n",
    "print(f'New Method Eigenvector ij: {new_eigenvector_ij}')"
   ]
  },
  {
   "cell_type": "code",
   "execution_count": 8,
   "metadata": {},
   "outputs": [
    {
     "name": "stdout",
     "output_type": "stream",
     "text": [
      "Old Method Eigenvector ij: 0.0225447410369363\n",
      "--------------------------------------------------\n",
      "New Method Eigenvector ij: 0.02254474103693581\n"
     ]
    }
   ],
   "source": [
    "'''\n",
    "Run with Complex Numbers Disabled\n",
    "'''\n",
    "# Random square matrix\n",
    "rand_square_matrix = torch.rand(50, 50, dtype=float)\n",
    "\n",
    "# Hermitian matrix\n",
    "hermitian_matrix = rand_square_matrix * rand_square_matrix.T\n",
    "\n",
    "# Old \n",
    "old_eigenvector_ij = get_eigenvector_val_old(hermitian_matrix, i=0, j=0, disable_complex=True)\n",
    "\n",
    "# New\n",
    "new_eigenvector_ij = get_eigenvector_val(hermitian_matrix, i=0, j=0, disable_complex=True)\n",
    "\n",
    "print(f'Old Method Eigenvector ij: {old_eigenvector_ij}')\n",
    "print('-'*50)\n",
    "print(f'New Method Eigenvector ij: {new_eigenvector_ij}')"
   ]
  }
 ],
 "metadata": {
  "kernelspec": {
   "display_name": "Python 3",
   "language": "python",
   "name": "python3"
  },
  "language_info": {
   "codemirror_mode": {
    "name": "ipython",
    "version": 3
   },
   "file_extension": ".py",
   "mimetype": "text/x-python",
   "name": "python",
   "nbconvert_exporter": "python",
   "pygments_lexer": "ipython3",
   "version": "3.8.8"
  }
 },
 "nbformat": 4,
 "nbformat_minor": 4
}

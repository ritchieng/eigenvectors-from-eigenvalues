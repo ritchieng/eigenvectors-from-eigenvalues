{
 "cells": [
  {
   "cell_type": "code",
   "execution_count": 318,
   "metadata": {},
   "outputs": [
    {
     "name": "stdout",
     "output_type": "stream",
     "text": [
      "1.9.1.post3\n",
      "3.8.8 (default, Apr 13 2021, 19:58:26) \n",
      "[GCC 7.3.0]\n"
     ]
    }
   ],
   "source": [
    "import torch\n",
    "print(torch.__version__)\n",
    "import sys\n",
    "print(sys.version)"
   ]
  },
  {
   "cell_type": "code",
   "execution_count": 349,
   "metadata": {
    "tags": []
   },
   "outputs": [],
   "source": [
    "def subidx(n:int, remove:int) -> list:\n",
    "    out = list(range(n))\n",
    "    out.remove(remove)\n",
    "    return out\n",
    "\n",
    "def submatrix(A:torch.tensor, j:int) -> torch.tensor:\n",
    "    n = A.shape[0]\n",
    "    s = subidx(n, j)\n",
    "    o = A[s, :]\n",
    "    o = o[:, s]\n",
    "    return o\n",
    "\n",
    "def get_eigenvector_val_old(hermitian_matrix, i, j, disable_complex=False):\n",
    "    # Old way\n",
    "    lam, v = torch.linalg.eig(hermitian_matrix)\n",
    "    if disable_complex:\n",
    "        old_eigenvector_ij = torch.abs(v[j,i]**2)\n",
    "    else:\n",
    "        old_eigenvector_ij = v[j,i]**2\n",
    "    \n",
    "    return old_eigenvector_ij\n",
    "\n",
    "def get_eigenvector_val(hermitian_matrix, i, j, disable_complex=False):\n",
    "    # Only need to calculate eigenvalues\n",
    "    lam  = torch.linalg.eigvals(hermitian_matrix)\n",
    "    \n",
    "    n = len(lam)\n",
    "    M = submatrix(hermitian_matrix, j)\n",
    "    # Only need to calculate eigenvalues\n",
    "    lam_submatrix = torch.linalg.eigvals(M)\n",
    "\n",
    "    # Left side of equation 2\n",
    "    left = torch.prod(torch.tensor([lam[i] - lam[k] for k in range(n) if k!=i]))\n",
    "    # Right side of equation 2\n",
    "    right = torch.prod(torch.tensor([lam[i] - lam_submatrix[k] for k in range(n-1)]))\n",
    "    # Right divided by left\n",
    "    eigenvector_ij = right / left\n",
    "    \n",
    "    if disable_complex:\n",
    "        eigenvector_ij = torch.abs(eigenvector_ij)\n",
    "    \n",
    "    return eigenvector_ij"
   ]
  },
  {
   "cell_type": "code",
   "execution_count": 364,
   "metadata": {},
   "outputs": [
    {
     "name": "stdout",
     "output_type": "stream",
     "text": [
      "Old Method Eigenvector ij: (0.024632040294863846-0j)\n",
      "--------------------------------------------------\n",
      "New Method Eigenvector ij: (0.024632040294865445+0j)\n"
     ]
    }
   ],
   "source": [
    "# Random square matrix\n",
    "rand_square_matrix = torch.rand(50, 50, dtype=float)\n",
    "\n",
    "# Hermitian matrix\n",
    "hermitian_matrix = rand_square_matrix * rand_square_matrix.T\n",
    "\n",
    "# Old \n",
    "old_eigenvector_ij = get_eigenvector_val_old(hermitian_matrix, i=0, j=0)\n",
    "\n",
    "# New\n",
    "new_eigenvector_ij = get_eigenvector_val(hermitian_matrix, i=0, j=0)\n",
    "\n",
    "print(f'Old Method Eigenvector ij: {old_eigenvector_ij}')\n",
    "print('-'*50)\n",
    "print(f'New Method Eigenvector ij: {new_eigenvector_ij}')"
   ]
  },
  {
   "cell_type": "code",
   "execution_count": 365,
   "metadata": {},
   "outputs": [],
   "source": [
    "lam, v = torch.linalg.eig(hermitian_matrix)"
   ]
  },
  {
   "cell_type": "code",
   "execution_count": 368,
   "metadata": {},
   "outputs": [
    {
     "data": {
      "text/plain": [
       "tensor(0.0246+-0.j, dtype=torch.complex128)"
      ]
     },
     "execution_count": 368,
     "metadata": {},
     "output_type": "execute_result"
    }
   ],
   "source": [
    "v[0, 0] ** 2"
   ]
  },
  {
   "cell_type": "code",
   "execution_count": 363,
   "metadata": {},
   "outputs": [
    {
     "data": {
      "text/plain": [
       "tensor(0.0182+-0.j, dtype=torch.complex128)"
      ]
     },
     "execution_count": 363,
     "metadata": {},
     "output_type": "execute_result"
    }
   ],
   "source": [
    "v[0,0]**2"
   ]
  },
  {
   "cell_type": "code",
   "execution_count": 369,
   "metadata": {},
   "outputs": [],
   "source": [
    " # Only need to calculate eigenvalues\n",
    "lam  = torch.linalg.eigvals(hermitian_matrix)\n",
    "\n",
    "n = len(lam)\n",
    "M = submatrix(hermitian_matrix, j)\n",
    "# Only need to calculate eigenvalues\n",
    "lam_submatrix = torch.linalg.eigvals(M)\n",
    "\n",
    "# Left side of equation 2\n",
    "left = torch.prod(torch.tensor([lam[i] - lam[k] for k in range(n) if k!=i]))\n",
    "# Right side of equation 2\n",
    "right = torch.prod(torch.tensor([lam[i] - lam_submatrix[k] for k in range(n-1)]))\n",
    "# Right divided by left\n",
    "eigenvector_ij = right / left"
   ]
  },
  {
   "cell_type": "code",
   "execution_count": 370,
   "metadata": {},
   "outputs": [
    {
     "data": {
      "text/plain": [
       "tensor(-7.5864e+19+0.j, dtype=torch.complex128)"
      ]
     },
     "execution_count": 370,
     "metadata": {},
     "output_type": "execute_result"
    }
   ],
   "source": [
    "\n",
    "left"
   ]
  },
  {
   "cell_type": "code",
   "execution_count": 371,
   "metadata": {},
   "outputs": [
    {
     "data": {
      "text/plain": [
       "tensor(-9.6471e+17+0.j, dtype=torch.complex128)"
      ]
     },
     "execution_count": 371,
     "metadata": {},
     "output_type": "execute_result"
    }
   ],
   "source": [
    "right"
   ]
  },
  {
   "cell_type": "code",
   "execution_count": 372,
   "metadata": {},
   "outputs": [],
   "source": [
    "import numpy as np\n",
    "from pprint import pprint\n",
    "\n",
    "\n",
    "def cal_eigenvalues_and_eigenvectors(A):\n",
    "    \"\"\"\n",
    "    :param A:  n x n Hermitian matrix\n",
    "    :return:\n",
    "    \"\"\"\n",
    "    eigenvalues, normed_eigenvectors = np.linalg.eig(A)\n",
    "    # Below two steps are redounding for readability\n",
    "    lmd = eigenvalues\n",
    "    v = normed_eigenvectors\n",
    "    return lmd, v\n",
    "\n",
    "\n",
    "def cal_determinant(M):\n",
    "    return np.linalg.det(M)\n",
    "\n",
    "\n",
    "def check_lemma2():\n",
    "    \"\"\"\n",
    "    lmd: short for lambda, i.e., eigenvalues.\n",
    "         \"lambda\" is not a good choice in python so I use lmd instead\n",
    "    v  : normed_eigenvectors\n",
    "    :return:\n",
    "    \"\"\"\n",
    "    n = np.random.randint(low=3, high=10)  # Dimension of a Hermitian matrix\n",
    "    C = np.matrix(np.random.rand(n, n))              # Seed Matrix\n",
    "    A = (C.getH() + C)                         # Construct Hermitian matrix\n",
    "    pprint(\"Pick a {} x {} matrix\".format(n, n))\n",
    "    pprint(A)\n",
    "\n",
    "    lmd, v = cal_eigenvalues_and_eigenvectors(A)\n",
    "    pprint(\"Lambda Shape : {}\".format(lmd.shape))\n",
    "    pprint(\"V Shape: {}\".format(v.shape))\n",
    "\n",
    "    # Now pick a dimension: i\n",
    "    i = np.random.randint(low=1, high=n)\n",
    "    pprint(\"Pick one dimension to check : {}\".format(i))\n",
    "\n",
    "    # Now pick a dimension: j\n",
    "    j = np.random.randint(low=0, high=n)\n",
    "    pprint(\"Pick one dimension to delete : {}\".format(j))\n",
    "\n",
    "    # Now, let's compute left side of equation (2) in paper\n",
    "    left = v[ j - 1, i - 1] ** 2\n",
    "    for k in range(0, n):\n",
    "        if k == i - 1:\n",
    "            continue\n",
    "        left *= (lmd[i - 1] - lmd[k])\n",
    "\n",
    "    pprint(\"Left side equals to {}\".format(left))\n",
    "\n",
    "    # Now, let's compute right side of the equation (2) in paper\n",
    "\n",
    "    right = 1\n",
    "    M = np.delete(A, (j - 1), axis=0)\n",
    "    M_j = np.delete(M, (j - 1), axis=1)\n",
    "    lmd_M_j, v_M_j = cal_eigenvalues_and_eigenvectors(M_j)\n",
    "    for k in range(0, n - 1):\n",
    "        right *= (lmd[i - 1] - lmd_M_j[k])\n",
    "\n",
    "    pprint(\"Right side equals to {}\".format(right))\n",
    "\n",
    "    assert np.abs(left - right) < 1e-5, \"left side  {} does not equal to the right side {}.\".format(left, right)"
   ]
  },
  {
   "cell_type": "code",
   "execution_count": 374,
   "metadata": {},
   "outputs": [
    {
     "name": "stdout",
     "output_type": "stream",
     "text": [
      "'Pick a 4 x 4 matrix'\n",
      "matrix([[0.81544663, 0.79276011, 0.33260111, 0.96847452],\n",
      "        [0.79276011, 1.26692506, 1.09569135, 0.93080612],\n",
      "        [0.33260111, 1.09569135, 0.72871825, 0.9783623 ],\n",
      "        [0.96847452, 0.93080612, 0.9783623 , 0.0549468 ]])\n",
      "'Lambda Shape : (4,)'\n",
      "'V Shape: (4, 4)'\n",
      "'Pick one dimension to check : 3'\n",
      "'Pick one dimension to delete : 3'\n",
      "'Left side equals to -0.6200569193511604'\n",
      "'Right side equals to -0.6200569193511597'\n"
     ]
    }
   ],
   "source": [
    "check_lemma2()"
   ]
  },
  {
   "cell_type": "code",
   "execution_count": 410,
   "metadata": {
    "tags": []
   },
   "outputs": [],
   "source": [
    "def subidx(n:int, remove:int) -> list:\n",
    "    out = list(range(n))\n",
    "    out.remove(remove)\n",
    "    return out\n",
    "\n",
    "def submatrix(A:torch.tensor, j:int) -> torch.tensor:\n",
    "    n = A.shape[0]\n",
    "    s = subidx(n, j)\n",
    "    o = A[s, :]\n",
    "    o = o[:, s]\n",
    "    return o\n",
    "\n",
    "def get_eigenvector_val_old(hermitian_matrix, i, j, disable_complex=False):\n",
    "    # Old way\n",
    "    lam, v = torch.linalg.eig(hermitian_matrix)\n",
    "    old_eigenvector_ij = v[j,i]\n",
    "    \n",
    "    return old_eigenvector_ij\n",
    "\n",
    "def get_eigenvector_val(hermitian_matrix, i, j, disable_complex=False):\n",
    "    # Only need to calculate eigenvalues\n",
    "    lam  = torch.linalg.eigvals(hermitian_matrix)\n",
    "    \n",
    "    n = len(lam)\n",
    "    M = submatrix(hermitian_matrix, j)\n",
    "    # Only need to calculate eigenvalues\n",
    "    lam_submatrix = torch.linalg.eigvals(M)\n",
    "\n",
    "    # Left side of equation 2\n",
    "    left = torch.prod(torch.tensor([lam[i] - lam[k] for k in range(n) if k!=i]))\n",
    "    # Right side of equation 2\n",
    "    right = torch.prod(torch.tensor([lam[i] - lam_submatrix[k] for k in range(n-1)]))\n",
    "    # Right divided by left\n",
    "    eigenvector_ij = right / left\n",
    "\n",
    "    if disable_complex:\n",
    "        eigenvector_ij = torch.abs(right)\n",
    "    \n",
    "    return eigenvector_ij**0.5"
   ]
  },
  {
   "cell_type": "code",
   "execution_count": 411,
   "metadata": {},
   "outputs": [
    {
     "name": "stdout",
     "output_type": "stream",
     "text": [
      "Old Method Eigenvector ij: (-0.1515468685131484+0j)\n",
      "--------------------------------------------------\n",
      "New Method Eigenvector ij: (0.1515468685131406+0j)\n"
     ]
    }
   ],
   "source": [
    "# Random square matrix\n",
    "rand_square_matrix = torch.rand(50, 50, dtype=float)\n",
    "\n",
    "# Symmetric matrix: multiply matrix by the transpose of its own\n",
    "symmetric_matrix = rand_square_matrix * rand_square_matrix.T\n",
    "\n",
    "# Old \n",
    "old_eigenvector_ij = get_eigenvector_val_old(symmetric_matrix, i=0, j=0)\n",
    "\n",
    "# New\n",
    "new_eigenvector_ij = get_eigenvector_val(symmetric_matrix, i=0, j=0)\n",
    "\n",
    "print(f'Old Method Eigenvector ij: {old_eigenvector_ij}')\n",
    "print('-'*50)\n",
    "print(f'New Method Eigenvector ij: {new_eigenvector_ij}')"
   ]
  },
  {
   "cell_type": "code",
   "execution_count": null,
   "metadata": {},
   "outputs": [],
   "source": [
    "     n = np.random.randint(low=3, high=10)  # Dimension of a Hermitian matrix\n",
    "    C = np.matrix(np.random.rand(n, n))              # Seed Matrix\n",
    "    A = (C.getH() + C)                         # Construct Hermitian matrix\n",
    "    pprint(\"Pick a {} x {} matrix\".format(n, n))\n",
    "    pprint(A)\n",
    "\n",
    "    lmd, v = cal_eigenvalues_and_eigenvectors(A)\n",
    "    \n",
    "    # Now, let's compute left side of equation (2) in paper\n",
    "    left = v[ j - 1, i - 1] ** 2\n",
    "    for k in range(0, n):\n",
    "        if k == i - 1:\n",
    "            continue\n",
    "        left *= (lmd[i - 1] - lmd[k])\n",
    "\n",
    "    pprint(\"Left side equals to {}\".format(left))\n",
    "\n",
    "    # Now, let's compute right side of the equation (2) in paper\n",
    "\n",
    "    right = 1\n",
    "    M = np.delete(A, (j - 1), axis=0)\n",
    "    M_j = np.delete(M, (j - 1), axis=1)\n",
    "    lmd_M_j, v_M_j = cal_eigenvalues_and_eigenvectors(M_j)\n",
    "    for k in range(0, n - 1):\n",
    "        right *= (lmd[i - 1] - lmd_M_j[k])"
   ]
  },
  {
   "cell_type": "code",
   "execution_count": 418,
   "metadata": {},
   "outputs": [],
   "source": [
    "# Only need to calculate eigenvalues\n",
    "lam  = torch.linalg.eigvals(symmetric_matrix)\n",
    "\n",
    "n = len(lam)\n",
    "M = submatrix(symmetric_matrix, j)\n",
    "# Only need to calculate eigenvalues\n",
    "lam_submatrix = torch.linalg.eigvals(M)\n",
    "\n",
    "# Left side of equation 2\n",
    "left = torch.prod(torch.tensor([lam[i] - lam[k] for k in range(n) if k!=i]))\n",
    "# Right side of equation 2\n",
    "right = torch.prod(torch.tensor([lam[i] - lam_submatrix[k] for k in range(n-1)]))"
   ]
  },
  {
   "cell_type": "code",
   "execution_count": 419,
   "metadata": {},
   "outputs": [
    {
     "data": {
      "text/plain": [
       "tensor(-5.4464e+19+0.j, dtype=torch.complex128)"
      ]
     },
     "execution_count": 419,
     "metadata": {},
     "output_type": "execute_result"
    }
   ],
   "source": [
    "M = submatrix(symmetric_matrix, j)"
   ]
  },
  {
   "cell_type": "code",
   "execution_count": 420,
   "metadata": {},
   "outputs": [
    {
     "data": {
      "text/plain": [
       "tensor(-3.6112e+18+0.j, dtype=torch.complex128)"
      ]
     },
     "execution_count": 420,
     "metadata": {},
     "output_type": "execute_result"
    }
   ],
   "source": [
    "right"
   ]
  },
  {
   "cell_type": "code",
   "execution_count": null,
   "metadata": {},
   "outputs": [],
   "source": []
  }
 ],
 "metadata": {
  "kernelspec": {
   "display_name": "Python 3",
   "language": "python",
   "name": "python3"
  },
  "language_info": {
   "codemirror_mode": {
    "name": "ipython",
    "version": 3
   },
   "file_extension": ".py",
   "mimetype": "text/x-python",
   "name": "python",
   "nbconvert_exporter": "python",
   "pygments_lexer": "ipython3",
   "version": "3.8.8"
  }
 },
 "nbformat": 4,
 "nbformat_minor": 4
}
